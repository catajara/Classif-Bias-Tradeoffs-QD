{
 "cells": [
  {
   "cell_type": "code",
   "execution_count": 6,
   "metadata": {
    "colab": {
     "base_uri": "https://localhost:8080/"
    },
    "executionInfo": {
     "elapsed": 846,
     "status": "ok",
     "timestamp": 1678470801248,
     "user": {
      "displayName": "Catalina Maria Jaramillo",
      "userId": "07805015735325415584"
     },
     "user_tz": 300
    },
    "id": "QG79Kr3DlHZf",
    "outputId": "814e9496-f12d-46ec-88b0-11e487cd5920"
   },
   "outputs": [
    {
     "name": "stdout",
     "output_type": "stream",
     "text": [
      "Python 3.10.9\n"
     ]
    }
   ],
   "source": [
    "!python --version"
   ]
  },
  {
   "cell_type": "code",
   "execution_count": 7,
   "metadata": {
    "colab": {
     "base_uri": "https://localhost:8080/"
    },
    "executionInfo": {
     "elapsed": 5,
     "status": "ok",
     "timestamp": 1678470801249,
     "user": {
      "displayName": "Catalina Maria Jaramillo",
      "userId": "07805015735325415584"
     },
     "user_tz": 300
    },
    "id": "QvmfUYYnlHZj",
    "outputId": "2e16cf73-c599-438f-9e0c-d7b1aa361b12"
   },
   "outputs": [],
   "source": [
    "#! runs in conda   % in local environment\n",
    "#!conda info"
   ]
  },
  {
   "cell_type": "code",
   "execution_count": 8,
   "metadata": {
    "colab": {
     "base_uri": "https://localhost:8080/"
    },
    "executionInfo": {
     "elapsed": 8208,
     "status": "ok",
     "timestamp": 1678470809599,
     "user": {
      "displayName": "Catalina Maria Jaramillo",
      "userId": "07805015735325415584"
     },
     "user_tz": 300
    },
    "id": "lHYau5rAlby4",
    "outputId": "5b5ebcc9-f9da-4823-be9e-f3d4380cab77"
   },
   "outputs": [],
   "source": [
    "# %pip install ribs==0.4.0\n",
    "#import ribs\n",
    "#print (ribs.__version__)"
   ]
  },
  {
   "cell_type": "code",
   "execution_count": 9,
   "metadata": {
    "executionInfo": {
     "elapsed": 2867,
     "status": "ok",
     "timestamp": 1678470812462,
     "user": {
      "displayName": "Catalina Maria Jaramillo",
      "userId": "07805015735325415584"
     },
     "user_tz": 300
    },
    "id": "gLF6ts5OtjYv"
   },
   "outputs": [],
   "source": [
    "import random\n",
    "random.seed(19)\n",
    "import numpy as np\n",
    "import pandas as pd\n",
    "# #from tqdm import tqdm\n",
    "import matplotlib.pyplot as plt\n",
    "import math\n",
    "\n",
    "import warnings\n",
    "warnings.filterwarnings('ignore')\n",
    "\n",
    "from sklearn.preprocessing import MinMaxScaler\n",
    "\n",
    "from ribs.visualize import grid_archive_heatmap\n",
    "##needs numpy 1.23.1\n"
   ]
  },
  {
   "cell_type": "code",
   "execution_count": 10,
   "metadata": {
    "executionInfo": {
     "elapsed": 7,
     "status": "ok",
     "timestamp": 1678470812463,
     "user": {
      "displayName": "Catalina Maria Jaramillo",
      "userId": "07805015735325415584"
     },
     "user_tz": 300
    },
    "id": "mvLCMODMtjYv"
   },
   "outputs": [],
   "source": [
    "#data reads the kaggle file\n",
    "data = pd.read_csv('./paper/train2.csv',)\n",
    "data.drop('education', axis=1, inplace=True)"
   ]
  },
  {
   "cell_type": "code",
   "execution_count": 11,
   "metadata": {},
   "outputs": [
    {
     "name": "stdout",
     "output_type": "stream",
     "text": [
      "<class 'pandas.core.frame.DataFrame'>\n",
      "RangeIndex: 54808 entries, 0 to 54807\n",
      "Data columns (total 14 columns):\n",
      " #   Column                Non-Null Count  Dtype  \n",
      "---  ------                --------------  -----  \n",
      " 0   employee_id           54808 non-null  int64  \n",
      " 1   department            54808 non-null  object \n",
      " 2   region                54808 non-null  object \n",
      " 3   education2            52399 non-null  float64\n",
      " 4   male                  54808 non-null  int64  \n",
      " 5   female                54808 non-null  int64  \n",
      " 6   recruitment_channel   54808 non-null  object \n",
      " 7   no_of_trainings       54808 non-null  int64  \n",
      " 8   age                   54808 non-null  int64  \n",
      " 9   previous_year_rating  50684 non-null  float64\n",
      " 10  length_of_service     54808 non-null  int64  \n",
      " 11  awards_won?           54808 non-null  int64  \n",
      " 12  avg_training_score    54808 non-null  int64  \n",
      " 13  is_promoted           54808 non-null  int64  \n",
      "dtypes: float64(2), int64(9), object(3)\n",
      "memory usage: 5.9+ MB\n"
     ]
    }
   ],
   "source": [
    "data.info()"
   ]
  },
  {
   "cell_type": "code",
   "execution_count": 16,
   "metadata": {},
   "outputs": [
    {
     "data": {
      "text/html": [
       "<div>\n",
       "<style scoped>\n",
       "    .dataframe tbody tr th:only-of-type {\n",
       "        vertical-align: middle;\n",
       "    }\n",
       "\n",
       "    .dataframe tbody tr th {\n",
       "        vertical-align: top;\n",
       "    }\n",
       "\n",
       "    .dataframe thead th {\n",
       "        text-align: right;\n",
       "    }\n",
       "</style>\n",
       "<table border=\"1\" class=\"dataframe\">\n",
       "  <thead>\n",
       "    <tr style=\"text-align: right;\">\n",
       "      <th></th>\n",
       "      <th>employee_id</th>\n",
       "      <th>department</th>\n",
       "      <th>region</th>\n",
       "      <th>education2</th>\n",
       "      <th>male</th>\n",
       "      <th>female</th>\n",
       "      <th>recruitment_channel</th>\n",
       "      <th>no_of_trainings</th>\n",
       "      <th>age</th>\n",
       "      <th>previous_year_rating</th>\n",
       "      <th>length_of_service</th>\n",
       "      <th>awards_won?</th>\n",
       "      <th>avg_training_score</th>\n",
       "      <th>is_promoted</th>\n",
       "    </tr>\n",
       "  </thead>\n",
       "  <tbody>\n",
       "    <tr>\n",
       "      <th>0</th>\n",
       "      <td>65438</td>\n",
       "      <td>Sales &amp; Marketing</td>\n",
       "      <td>region_7</td>\n",
       "      <td>3.0</td>\n",
       "      <td>0</td>\n",
       "      <td>1</td>\n",
       "      <td>sourcing</td>\n",
       "      <td>1</td>\n",
       "      <td>35</td>\n",
       "      <td>5.0</td>\n",
       "      <td>8</td>\n",
       "      <td>0</td>\n",
       "      <td>49</td>\n",
       "      <td>0</td>\n",
       "    </tr>\n",
       "    <tr>\n",
       "      <th>1</th>\n",
       "      <td>65141</td>\n",
       "      <td>Operations</td>\n",
       "      <td>region_22</td>\n",
       "      <td>2.0</td>\n",
       "      <td>1</td>\n",
       "      <td>0</td>\n",
       "      <td>other</td>\n",
       "      <td>1</td>\n",
       "      <td>30</td>\n",
       "      <td>5.0</td>\n",
       "      <td>4</td>\n",
       "      <td>0</td>\n",
       "      <td>60</td>\n",
       "      <td>0</td>\n",
       "    </tr>\n",
       "    <tr>\n",
       "      <th>2</th>\n",
       "      <td>7513</td>\n",
       "      <td>Sales &amp; Marketing</td>\n",
       "      <td>region_19</td>\n",
       "      <td>2.0</td>\n",
       "      <td>1</td>\n",
       "      <td>0</td>\n",
       "      <td>sourcing</td>\n",
       "      <td>1</td>\n",
       "      <td>34</td>\n",
       "      <td>3.0</td>\n",
       "      <td>7</td>\n",
       "      <td>0</td>\n",
       "      <td>50</td>\n",
       "      <td>0</td>\n",
       "    </tr>\n",
       "    <tr>\n",
       "      <th>3</th>\n",
       "      <td>2542</td>\n",
       "      <td>Sales &amp; Marketing</td>\n",
       "      <td>region_23</td>\n",
       "      <td>2.0</td>\n",
       "      <td>1</td>\n",
       "      <td>0</td>\n",
       "      <td>other</td>\n",
       "      <td>2</td>\n",
       "      <td>39</td>\n",
       "      <td>1.0</td>\n",
       "      <td>10</td>\n",
       "      <td>0</td>\n",
       "      <td>50</td>\n",
       "      <td>0</td>\n",
       "    </tr>\n",
       "    <tr>\n",
       "      <th>4</th>\n",
       "      <td>48945</td>\n",
       "      <td>Technology</td>\n",
       "      <td>region_26</td>\n",
       "      <td>2.0</td>\n",
       "      <td>1</td>\n",
       "      <td>0</td>\n",
       "      <td>other</td>\n",
       "      <td>1</td>\n",
       "      <td>45</td>\n",
       "      <td>3.0</td>\n",
       "      <td>2</td>\n",
       "      <td>0</td>\n",
       "      <td>73</td>\n",
       "      <td>0</td>\n",
       "    </tr>\n",
       "  </tbody>\n",
       "</table>\n",
       "</div>"
      ],
      "text/plain": [
       "   employee_id         department     region  education2  male  female  \\\n",
       "0        65438  Sales & Marketing   region_7         3.0     0       1   \n",
       "1        65141         Operations  region_22         2.0     1       0   \n",
       "2         7513  Sales & Marketing  region_19         2.0     1       0   \n",
       "3         2542  Sales & Marketing  region_23         2.0     1       0   \n",
       "4        48945         Technology  region_26         2.0     1       0   \n",
       "\n",
       "  recruitment_channel  no_of_trainings  age  previous_year_rating  \\\n",
       "0            sourcing                1   35                   5.0   \n",
       "1               other                1   30                   5.0   \n",
       "2            sourcing                1   34                   3.0   \n",
       "3               other                2   39                   1.0   \n",
       "4               other                1   45                   3.0   \n",
       "\n",
       "   length_of_service  awards_won?  avg_training_score  is_promoted  \n",
       "0                  8            0                  49            0  \n",
       "1                  4            0                  60            0  \n",
       "2                  7            0                  50            0  \n",
       "3                 10            0                  50            0  \n",
       "4                  2            0                  73            0  "
      ]
     },
     "execution_count": 16,
     "metadata": {},
     "output_type": "execute_result"
    }
   ],
   "source": [
    "data.head()"
   ]
  },
  {
   "cell_type": "code",
   "execution_count": 27,
   "metadata": {
    "executionInfo": {
     "elapsed": 5,
     "status": "ok",
     "timestamp": 1678470812463,
     "user": {
      "displayName": "Catalina Maria Jaramillo",
      "userId": "07805015735325415584"
     },
     "user_tz": 300
    },
    "id": "E_6j1xmOd-MC"
   },
   "outputs": [
    {
     "data": {
      "text/plain": [
       "(5728, 14)"
      ]
     },
     "execution_count": 27,
     "metadata": {},
     "output_type": "execute_result"
    }
   ],
   "source": [
    "#unbiased\n",
    "thres = 34\n",
    "data1 = data[(data['female']==1) & (data['age']<thres) & (data['is_promoted'] == 1)].sample(716)\n",
    "data1 = pd.concat([data1, data[(data['female']==1) & (data['age']<thres) & (data['is_promoted'] == 0)].sample(716)])\n",
    "data1 = pd.concat([data1, data[(data['female']==1) & (data['age']>=thres) & (data['is_promoted'] == 1)].sample(716)])\n",
    "data1 = pd.concat([data1, data[(data['female']==1) & (data['age']>=thres) & (data['is_promoted'] == 0)].sample(716)])\n",
    "data1 = pd.concat([data1, data[(data['male']==1) & (data['age']<thres)& (data['is_promoted'] == 1)].sample(716)])\n",
    "data1 = pd.concat([data1, data[(data['male']==1) & (data['age']<thres)& (data['is_promoted'] == 0)].sample(716)])\n",
    "data1 = pd.concat([data1, data[(data['male']==1) & (data['age']>=thres)& (data['is_promoted'] == 1)].sample(716)])\n",
    "data1 = pd.concat([data1, data[(data['male']==1) & (data['age']>=thres)& (data['is_promoted'] == 0)].sample(716)])\n",
    "data1.shape"
   ]
  },
  {
   "cell_type": "code",
   "execution_count": 28,
   "metadata": {},
   "outputs": [
    {
     "data": {
      "text/plain": [
       "(4384, 14)"
      ]
     },
     "execution_count": 28,
     "metadata": {},
     "output_type": "execute_result"
    }
   ],
   "source": [
    "#Male bias same sample size\n",
    "thres = 34\n",
    "data2 = data[(data['female']==1) & (data['age']<thres) & (data['is_promoted'] == 1)].sample(380)\n",
    "data2 = pd.concat([data2, data[(data['female']==1) & (data['age']<thres) & (data['is_promoted'] == 0)].sample(716)])\n",
    "data2 = pd.concat([data2, data[(data['female']==1) & (data['age']>=thres) & (data['is_promoted'] == 1)].sample(380)])\n",
    "data2 = pd.concat([data2, data[(data['female']==1) & (data['age']>=thres) & (data['is_promoted'] == 0)].sample(716)])\n",
    "data2 = pd.concat([data2, data[(data['male']==1) & (data['age']<thres)& (data['is_promoted'] == 1)].sample(716)])\n",
    "data2 = pd.concat([data2, data[(data['male']==1) & (data['age']<thres)& (data['is_promoted'] == 0)].sample(380)])\n",
    "data2 = pd.concat([data2, data[(data['male']==1) & (data['age']>=thres)& (data['is_promoted'] == 1)].sample(716)])\n",
    "data2 = pd.concat([data2, data[(data['male']==1) & (data['age']>=thres)& (data['is_promoted'] == 0)].sample(380)])\n",
    "data2.shape"
   ]
  },
  {
   "cell_type": "code",
   "execution_count": 29,
   "metadata": {
    "executionInfo": {
     "elapsed": 135,
     "status": "ok",
     "timestamp": 1678470816725,
     "user": {
      "displayName": "Catalina Maria Jaramillo",
      "userId": "07805015735325415584"
     },
     "user_tz": 300
    },
    "id": "TOHKKMBmxriO"
   },
   "outputs": [
    {
     "data": {
      "text/plain": [
       "(6576, 14)"
      ]
     },
     "execution_count": 29,
     "metadata": {},
     "output_type": "execute_result"
    }
   ],
   "source": [
    "#Higher male sample size\n",
    "thres = 34\n",
    "data3 = data[(data['female']==1) & (data['age']<thres) & (data['is_promoted'] == 1)].sample(380)\n",
    "data3 = pd.concat([data3, data[(data['female']==1) & (data['age']<thres) & (data['is_promoted'] == 0)].sample(716)])\n",
    "data3 = pd.concat([data3, data[(data['female']==1) & (data['age']>=thres) & (data['is_promoted'] == 1)].sample(380)])\n",
    "data3 = pd.concat([data3, data[(data['female']==1) & (data['age']>=thres) & (data['is_promoted'] == 0)].sample(716)])\n",
    "data3 = pd.concat([data3, data[(data['male']==1) & (data['age']<thres)& (data['is_promoted'] == 1)].sample(1476)])\n",
    "data3 = pd.concat([data3, data[(data['male']==1) & (data['age']<thres)& (data['is_promoted'] == 0)].sample(716)])\n",
    "data3 = pd.concat([data3, data[(data['male']==1) & (data['age']>=thres)& (data['is_promoted'] == 1)].sample(1476)])\n",
    "data3 = pd.concat([data3, data[(data['male']==1) & (data['age']>=thres)& (data['is_promoted'] == 0)].sample(716)])\n",
    "data3.shape"
   ]
  },
  {
   "cell_type": "code",
   "execution_count": 30,
   "metadata": {},
   "outputs": [
    {
     "data": {
      "text/plain": [
       "(4508, 14)"
      ]
     },
     "execution_count": 30,
     "metadata": {},
     "output_type": "execute_result"
    }
   ],
   "source": [
    "#data set bias to male if old and to women if young\n",
    "thres = 34\n",
    "data4 = data[(data['female']==1) & (data['age']<thres) & (data['is_promoted'] == 1)].sample(751)\n",
    "data4 = pd.concat([data4, data[(data['female']==1) & (data['age']<thres) & (data['is_promoted'] == 0)].sample(376)])\n",
    "data4 = pd.concat([data4, data[(data['female']==1) & (data['age']>=thres) & (data['is_promoted'] == 1)].sample(376)])\n",
    "data4 = pd.concat([data4, data[(data['female']==1) & (data['age']>=thres) & (data['is_promoted'] == 0)].sample(751)])\n",
    "data4 = pd.concat([data4, data[(data['male']==1) & (data['age']<thres)& (data['is_promoted'] == 1)].sample(376)])\n",
    "data4 = pd.concat([data4, data[(data['male']==1) & (data['age']<thres)& (data['is_promoted'] == 0)].sample(751)])\n",
    "data4 = pd.concat([data4, data[(data['male']==1) & (data['age']>=thres)& (data['is_promoted'] == 1)].sample(751)])\n",
    "data4 = pd.concat([data4, data[(data['male']==1) & (data['age']>=thres)& (data['is_promoted'] == 0)].sample(376)])\n",
    "data4.shape\n"
   ]
  },
  {
   "cell_type": "code",
   "execution_count": 31,
   "metadata": {},
   "outputs": [
    {
     "data": {
      "text/plain": [
       "(4510, 14)"
      ]
     },
     "execution_count": 31,
     "metadata": {},
     "output_type": "execute_result"
    }
   ],
   "source": [
    "#data set bias to male if old and, women is unbiased\n",
    "thres = 34\n",
    "data9 = data[(data['female']==1) & (data['age']<thres) & (data['is_promoted'] == 1)].sample(564)\n",
    "data9 = pd.concat([data9, data[(data['female']==1) & (data['age']<thres) & (data['is_promoted'] == 0)].sample(564)])\n",
    "data9 = pd.concat([data9, data[(data['female']==1) & (data['age']>=thres) & (data['is_promoted'] == 1)].sample(564)])\n",
    "data9 = pd.concat([data9, data[(data['female']==1) & (data['age']>=thres) & (data['is_promoted'] == 0)].sample(564)])\n",
    "data9 = pd.concat([data9, data[(data['male']==1) & (data['age']<thres)& (data['is_promoted'] == 1)].sample(376)])\n",
    "data9 = pd.concat([data9, data[(data['male']==1) & (data['age']<thres)& (data['is_promoted'] == 0)].sample(751)])\n",
    "data9 = pd.concat([data9, data[(data['male']==1) & (data['age']>=thres)& (data['is_promoted'] == 1)].sample(751)])\n",
    "data9 = pd.concat([data9, data[(data['male']==1) & (data['age']>=thres)& (data['is_promoted'] == 0)].sample(376)])\n",
    "data9.shape\n"
   ]
  },
  {
   "cell_type": "code",
   "execution_count": 32,
   "metadata": {
    "executionInfo": {
     "elapsed": 5,
     "status": "ok",
     "timestamp": 1678470812463,
     "user": {
      "displayName": "Catalina Maria Jaramillo",
      "userId": "07805015735325415584"
     },
     "user_tz": 300
    },
    "id": "xPLe5RvGtjYv"
   },
   "outputs": [
    {
     "data": {
      "text/plain": [
       "(32142, 14)"
      ]
     },
     "execution_count": 32,
     "metadata": {},
     "output_type": "execute_result"
    }
   ],
   "source": [
    "#balances age, biases gender\n",
    "data10 = data[data['female']==1]\n",
    "data10 = data10.append(data[(data['male']==1) & (data['age']<34) & (data['is_promoted']==1)].sample(frac=1440/1725))\n",
    "data10 = data10.append(data[(data['male']==1) & (data['age']<34) & (data['is_promoted']==0)].sample(frac=6660/18245))\n",
    "data10 = data10.append(data[(data['male']==1) & (data['age']>=34) & (data['is_promoted']==1)])\n",
    "data10 = data10.append(data[(data['male']==1) & (data['age']>=34) & (data['is_promoted']==0)].sample(frac=6254/17050))\n",
    "data10.shape"
   ]
  },
  {
   "cell_type": "code",
   "execution_count": 33,
   "metadata": {},
   "outputs": [
    {
     "name": "stdout",
     "output_type": "stream",
     "text": [
      "n\t\t\t\t 5728\n",
      "Total promotion rate\t\t 0.5\n",
      "Male proportion in dataset\t 0.5\n",
      "Male promotion rate\t\t 0.5\n",
      "Female proportion in dataset\t 0.5\n",
      "Female promotion rate\t\t 0.5\n",
      "Young proportion in dataset\t 0.5\n",
      "Young promotion rate\t\t 0.5\n",
      "Old proportion in dataset\t 0.5\n",
      "Old promotion rate\t\t 0.5 \n",
      "\n",
      "\t&n&Proportion&Promotion rate\\\\\n",
      "\tAll& 5728 &1.00& 0.5 \\\\\n",
      "\tMale& 2864 & 0.5 & 0.5 \\\\\n",
      "\tFemale& 2864 & 0.5 & 0.5 \\\\\n",
      "\tYoung& 2864 & 0.5 & 0.5 \\\\\n",
      "\tOld& 2864 & 0.5 & 0.5 \\\\\n",
      "\n",
      "\tPromotion rate&Young&Old\\\\\n",
      "\tMale& 0.5 & 0.5 \\\\\n",
      "\tFemale& 0.5 & 0.5 \\\\\n"
     ]
    }
   ],
   "source": [
    "g = data1\n",
    "#display(g.describe())\n",
    "print('n\\t\\t\\t\\t', g.shape[0])\n",
    "print('Total promotion rate\\t\\t', round(g['is_promoted'].mean(), 2))\n",
    "print('Male proportion in dataset\\t', round(g['male'].mean(), 2))\n",
    "print('Male promotion rate\\t\\t', round(g[g['male']==1]['is_promoted'].mean(), 2))\n",
    "print('Female proportion in dataset\\t', round(g['female'].mean(), 2))\n",
    "print('Female promotion rate\\t\\t', round(g[g['female']==1]['is_promoted'].mean(), 2))\n",
    "print('Young proportion in dataset\\t', round(len(g[g['age']<thres])/len(g), 2))\n",
    "print('Young promotion rate\\t\\t', round(g[g['age']<thres]['is_promoted'].mean(), 2))\n",
    "print('Old proportion in dataset\\t', round(len(g[g['age']>=thres])/len(g), 2))\n",
    "print('Old promotion rate\\t\\t', round(g[g['age']<thres]['is_promoted'].mean(), 2),'\\n')\n",
    "\n",
    "print('\\t&n&Proportion&Promotion rate\\\\\\\\')\n",
    "print('\\tAll&',g.shape[0],'&1.00&',round(g['is_promoted'].mean(), 2),'\\\\\\\\')\n",
    "print('\\tMale&',\n",
    "      len(g[g['male']==1]),'&',\n",
    "      round(g['male'].mean(), 2),'&',\n",
    "      round(g[g['male']==1]['is_promoted'].mean(), 2),'\\\\\\\\')\n",
    "print('\\tFemale&',\n",
    "      len(g[g['female']==1]),'&',\n",
    "      round(g['female'].mean(), 2),'&',\n",
    "      round(g[g['female']==1]['is_promoted'].mean(), 2),'\\\\\\\\')\n",
    "print('\\tYoung&',\n",
    "      len(g[g['age']<thres]),'&',\n",
    "      round(len(g[g['age']<thres])/len(g), 2),'&',\n",
    "      round(g[g['age']<thres]['is_promoted'].mean(), 2),'\\\\\\\\')\n",
    "print('\\tOld&',\n",
    "      len(g[g['age']>=thres]),'&',\n",
    "      round(len(g[g['age']>=thres])/len(g), 2),'&',\n",
    "      round(g[g['age']>=thres]['is_promoted'].mean(), 2),'\\\\\\\\\\n')\n",
    "\n",
    "print('\\tPromotion rate&Young&Old\\\\\\\\')\n",
    "print('\\tMale&',\n",
    "      round(g[(g['male']==1)&(g['age']<thres)]['is_promoted'].mean(),2),'&',\n",
    "      round(g[(g['male']==1)&(g['age']>=thres)]['is_promoted'].mean(),2),'\\\\\\\\')\n",
    "print('\\tFemale&',\n",
    "      round(g[(g['female']==1)&(g['age']<thres)]['is_promoted'].mean(),2),'&',\n",
    "      round(g[(g['female']==1)&(g['age']>=thres)]['is_promoted'].mean(),2),'\\\\\\\\')\n",
    "\n",
    "\n"
   ]
  },
  {
   "cell_type": "code",
   "execution_count": 34,
   "metadata": {
    "executionInfo": {
     "elapsed": 149,
     "status": "ok",
     "timestamp": 1678470829135,
     "user": {
      "displayName": "Catalina Maria Jaramillo",
      "userId": "07805015735325415584"
     },
     "user_tz": 300
    },
    "id": "I87e92DqkiJa"
   },
   "outputs": [],
   "source": [
    "# Populate the archive with the negative sphere function.\n",
    "# Plot a heatmap of the archive.\n",
    "\n",
    "def dibujo(a, b):\n",
    "    plt.figure(figsize=(a, b))\n",
    "    grid_archive_heatmap(archive)\n",
    "    plt.title(\"Accuracy\")\n",
    "    plt.xlabel(x_prob)\n",
    "    plt.ylabel(y_prob)\n",
    "    plt.show()"
   ]
  },
  {
   "attachments": {},
   "cell_type": "markdown",
   "metadata": {},
   "source": [
    "### HERE"
   ]
  },
  {
   "cell_type": "code",
   "execution_count": 35,
   "metadata": {},
   "outputs": [
    {
     "data": {
      "text/html": [
       "<div>\n",
       "<style scoped>\n",
       "    .dataframe tbody tr th:only-of-type {\n",
       "        vertical-align: middle;\n",
       "    }\n",
       "\n",
       "    .dataframe tbody tr th {\n",
       "        vertical-align: top;\n",
       "    }\n",
       "\n",
       "    .dataframe thead th {\n",
       "        text-align: right;\n",
       "    }\n",
       "</style>\n",
       "<table border=\"1\" class=\"dataframe\">\n",
       "  <thead>\n",
       "    <tr style=\"text-align: right;\">\n",
       "      <th></th>\n",
       "      <th>employee_id</th>\n",
       "      <th>department</th>\n",
       "      <th>region</th>\n",
       "      <th>education2</th>\n",
       "      <th>male</th>\n",
       "      <th>female</th>\n",
       "      <th>recruitment_channel</th>\n",
       "      <th>no_of_trainings</th>\n",
       "      <th>age</th>\n",
       "      <th>previous_year_rating</th>\n",
       "      <th>length_of_service</th>\n",
       "      <th>awards_won?</th>\n",
       "      <th>avg_training_score</th>\n",
       "      <th>is_promoted</th>\n",
       "    </tr>\n",
       "  </thead>\n",
       "  <tbody>\n",
       "    <tr>\n",
       "      <th>39206</th>\n",
       "      <td>38971</td>\n",
       "      <td>Analytics</td>\n",
       "      <td>region_22</td>\n",
       "      <td>2.0</td>\n",
       "      <td>0</td>\n",
       "      <td>1</td>\n",
       "      <td>other</td>\n",
       "      <td>4</td>\n",
       "      <td>27</td>\n",
       "      <td>1.0</td>\n",
       "      <td>5</td>\n",
       "      <td>0</td>\n",
       "      <td>79</td>\n",
       "      <td>1</td>\n",
       "    </tr>\n",
       "    <tr>\n",
       "      <th>32503</th>\n",
       "      <td>5019</td>\n",
       "      <td>Procurement</td>\n",
       "      <td>region_14</td>\n",
       "      <td>2.0</td>\n",
       "      <td>0</td>\n",
       "      <td>1</td>\n",
       "      <td>sourcing</td>\n",
       "      <td>1</td>\n",
       "      <td>33</td>\n",
       "      <td>5.0</td>\n",
       "      <td>7</td>\n",
       "      <td>0</td>\n",
       "      <td>66</td>\n",
       "      <td>1</td>\n",
       "    </tr>\n",
       "    <tr>\n",
       "      <th>42940</th>\n",
       "      <td>4255</td>\n",
       "      <td>Operations</td>\n",
       "      <td>region_15</td>\n",
       "      <td>2.0</td>\n",
       "      <td>0</td>\n",
       "      <td>1</td>\n",
       "      <td>other</td>\n",
       "      <td>1</td>\n",
       "      <td>30</td>\n",
       "      <td>5.0</td>\n",
       "      <td>6</td>\n",
       "      <td>0</td>\n",
       "      <td>76</td>\n",
       "      <td>1</td>\n",
       "    </tr>\n",
       "    <tr>\n",
       "      <th>9505</th>\n",
       "      <td>38897</td>\n",
       "      <td>Sales &amp; Marketing</td>\n",
       "      <td>region_7</td>\n",
       "      <td>2.0</td>\n",
       "      <td>0</td>\n",
       "      <td>1</td>\n",
       "      <td>other</td>\n",
       "      <td>1</td>\n",
       "      <td>31</td>\n",
       "      <td>3.0</td>\n",
       "      <td>6</td>\n",
       "      <td>0</td>\n",
       "      <td>64</td>\n",
       "      <td>1</td>\n",
       "    </tr>\n",
       "    <tr>\n",
       "      <th>8364</th>\n",
       "      <td>23146</td>\n",
       "      <td>Analytics</td>\n",
       "      <td>region_31</td>\n",
       "      <td>2.0</td>\n",
       "      <td>0</td>\n",
       "      <td>1</td>\n",
       "      <td>other</td>\n",
       "      <td>1</td>\n",
       "      <td>30</td>\n",
       "      <td>3.0</td>\n",
       "      <td>3</td>\n",
       "      <td>0</td>\n",
       "      <td>90</td>\n",
       "      <td>1</td>\n",
       "    </tr>\n",
       "    <tr>\n",
       "      <th>...</th>\n",
       "      <td>...</td>\n",
       "      <td>...</td>\n",
       "      <td>...</td>\n",
       "      <td>...</td>\n",
       "      <td>...</td>\n",
       "      <td>...</td>\n",
       "      <td>...</td>\n",
       "      <td>...</td>\n",
       "      <td>...</td>\n",
       "      <td>...</td>\n",
       "      <td>...</td>\n",
       "      <td>...</td>\n",
       "      <td>...</td>\n",
       "      <td>...</td>\n",
       "    </tr>\n",
       "    <tr>\n",
       "      <th>52285</th>\n",
       "      <td>77572</td>\n",
       "      <td>Operations</td>\n",
       "      <td>region_23</td>\n",
       "      <td>3.0</td>\n",
       "      <td>1</td>\n",
       "      <td>0</td>\n",
       "      <td>sourcing</td>\n",
       "      <td>1</td>\n",
       "      <td>34</td>\n",
       "      <td>5.0</td>\n",
       "      <td>4</td>\n",
       "      <td>0</td>\n",
       "      <td>59</td>\n",
       "      <td>0</td>\n",
       "    </tr>\n",
       "    <tr>\n",
       "      <th>36211</th>\n",
       "      <td>16078</td>\n",
       "      <td>Sales &amp; Marketing</td>\n",
       "      <td>region_16</td>\n",
       "      <td>3.0</td>\n",
       "      <td>1</td>\n",
       "      <td>0</td>\n",
       "      <td>other</td>\n",
       "      <td>1</td>\n",
       "      <td>58</td>\n",
       "      <td>4.0</td>\n",
       "      <td>31</td>\n",
       "      <td>0</td>\n",
       "      <td>53</td>\n",
       "      <td>0</td>\n",
       "    </tr>\n",
       "    <tr>\n",
       "      <th>18570</th>\n",
       "      <td>69584</td>\n",
       "      <td>HR</td>\n",
       "      <td>region_13</td>\n",
       "      <td>2.0</td>\n",
       "      <td>1</td>\n",
       "      <td>0</td>\n",
       "      <td>sourcing</td>\n",
       "      <td>1</td>\n",
       "      <td>37</td>\n",
       "      <td>3.0</td>\n",
       "      <td>8</td>\n",
       "      <td>0</td>\n",
       "      <td>47</td>\n",
       "      <td>0</td>\n",
       "    </tr>\n",
       "    <tr>\n",
       "      <th>7412</th>\n",
       "      <td>76744</td>\n",
       "      <td>Operations</td>\n",
       "      <td>region_4</td>\n",
       "      <td>3.0</td>\n",
       "      <td>1</td>\n",
       "      <td>0</td>\n",
       "      <td>other</td>\n",
       "      <td>1</td>\n",
       "      <td>50</td>\n",
       "      <td>3.0</td>\n",
       "      <td>21</td>\n",
       "      <td>0</td>\n",
       "      <td>60</td>\n",
       "      <td>0</td>\n",
       "    </tr>\n",
       "    <tr>\n",
       "      <th>27489</th>\n",
       "      <td>11788</td>\n",
       "      <td>Sales &amp; Marketing</td>\n",
       "      <td>region_2</td>\n",
       "      <td>3.0</td>\n",
       "      <td>1</td>\n",
       "      <td>0</td>\n",
       "      <td>sourcing</td>\n",
       "      <td>1</td>\n",
       "      <td>51</td>\n",
       "      <td>4.0</td>\n",
       "      <td>16</td>\n",
       "      <td>0</td>\n",
       "      <td>48</td>\n",
       "      <td>0</td>\n",
       "    </tr>\n",
       "  </tbody>\n",
       "</table>\n",
       "<p>5728 rows × 14 columns</p>\n",
       "</div>"
      ],
      "text/plain": [
       "       employee_id         department     region  education2  male  female  \\\n",
       "39206        38971          Analytics  region_22         2.0     0       1   \n",
       "32503         5019        Procurement  region_14         2.0     0       1   \n",
       "42940         4255         Operations  region_15         2.0     0       1   \n",
       "9505         38897  Sales & Marketing   region_7         2.0     0       1   \n",
       "8364         23146          Analytics  region_31         2.0     0       1   \n",
       "...            ...                ...        ...         ...   ...     ...   \n",
       "52285        77572         Operations  region_23         3.0     1       0   \n",
       "36211        16078  Sales & Marketing  region_16         3.0     1       0   \n",
       "18570        69584                 HR  region_13         2.0     1       0   \n",
       "7412         76744         Operations   region_4         3.0     1       0   \n",
       "27489        11788  Sales & Marketing   region_2         3.0     1       0   \n",
       "\n",
       "      recruitment_channel  no_of_trainings  age  previous_year_rating  \\\n",
       "39206               other                4   27                   1.0   \n",
       "32503            sourcing                1   33                   5.0   \n",
       "42940               other                1   30                   5.0   \n",
       "9505                other                1   31                   3.0   \n",
       "8364                other                1   30                   3.0   \n",
       "...                   ...              ...  ...                   ...   \n",
       "52285            sourcing                1   34                   5.0   \n",
       "36211               other                1   58                   4.0   \n",
       "18570            sourcing                1   37                   3.0   \n",
       "7412                other                1   50                   3.0   \n",
       "27489            sourcing                1   51                   4.0   \n",
       "\n",
       "       length_of_service  awards_won?  avg_training_score  is_promoted  \n",
       "39206                  5            0                  79            1  \n",
       "32503                  7            0                  66            1  \n",
       "42940                  6            0                  76            1  \n",
       "9505                   6            0                  64            1  \n",
       "8364                   3            0                  90            1  \n",
       "...                  ...          ...                 ...          ...  \n",
       "52285                  4            0                  59            0  \n",
       "36211                 31            0                  53            0  \n",
       "18570                  8            0                  47            0  \n",
       "7412                  21            0                  60            0  \n",
       "27489                 16            0                  48            0  \n",
       "\n",
       "[5728 rows x 14 columns]"
      ]
     },
     "execution_count": 35,
     "metadata": {},
     "output_type": "execute_result"
    }
   ],
   "source": [
    "g"
   ]
  },
  {
   "cell_type": "code",
   "execution_count": 43,
   "metadata": {
    "executionInfo": {
     "elapsed": 135,
     "status": "ok",
     "timestamp": 1678472476056,
     "user": {
      "displayName": "Catalina Maria Jaramillo",
      "userId": "07805015735325415584"
     },
     "user_tz": 300
    },
    "id": "XU-ftpoqLQfq"
   },
   "outputs": [],
   "source": [
    "nombre = 'output106'\n",
    "datatouse = 'data1'\n",
    "cual = eval(datatouse).copy() #dataset\n",
    "#exec()\n",
    "selection = 'mixed2' #age, mixed, gender\n",
    "\n",
    "thres = thres\n",
    "\n",
    "EXP_NAME = 'test'\n",
    "map = 'prob2' #prob, prob2 (prob for the predicted promotion rate of each group)\n",
    "\n",
    "dim =   [[0, 2], [0, 2]]\n",
    "# dim =   [[0.5, 2], [0.5, 2]]\n",
    "\n",
    "bins = [30,30]\n",
    "\n",
    "total_itrs = 100000\n",
    "\n",
    "a=35\n",
    "b=15\n",
    "c=1\n",
    "\n"
   ]
  },
  {
   "cell_type": "code",
   "execution_count": null,
   "metadata": {},
   "outputs": [],
   "source": []
  },
  {
   "cell_type": "code",
   "execution_count": 44,
   "metadata": {
    "colab": {
     "base_uri": "https://localhost:8080/",
     "height": 446
    },
    "executionInfo": {
     "elapsed": 6,
     "status": "ok",
     "timestamp": 1678473889129,
     "user": {
      "displayName": "Catalina Maria Jaramillo",
      "userId": "07805015735325415584"
     },
     "user_tz": 300
    },
    "id": "rsxq9jajtjYv",
    "outputId": "08df5f94-bfd2-4f9c-f2de-767a3442649f"
   },
   "outputs": [
    {
     "name": "stdout",
     "output_type": "stream",
     "text": [
      "data1\n"
     ]
    }
   ],
   "source": [
    "print (datatouse)"
   ]
  },
  {
   "cell_type": "code",
   "execution_count": 45,
   "metadata": {
    "executionInfo": {
     "elapsed": 402,
     "status": "ok",
     "timestamp": 1678472477417,
     "user": {
      "displayName": "Catalina Maria Jaramillo",
      "userId": "07805015735325415584"
     },
     "user_tz": 300
    },
    "id": "4ncM9s1btjYw"
   },
   "outputs": [],
   "source": [
    "#Use cual to select the dataset to be used in the run\n",
    "prepare = pd.get_dummies(cual['department'])\n",
    "prepare = pd.concat([prepare, pd.get_dummies(cual['region'])], axis=1)\n",
    "prepare = pd.concat([prepare, pd.get_dummies(cual['recruitment_channel'])], axis=1)\n",
    "prepare = pd.concat([prepare, \n",
    "                     cual[['male', \n",
    "                           'female', \n",
    "                           'education2', \n",
    "                           'no_of_trainings', \n",
    "                           'age', \n",
    "                           'previous_year_rating', \n",
    "                           'length_of_service', \n",
    "                           'awards_won?', \n",
    "                           'avg_training_score', \n",
    "                           'is_promoted']]],\n",
    "                    axis=1,\n",
    "                    )\n",
    "\n",
    "inputs = prepare.iloc[:,:-1]\n",
    "real = prepare.iloc[:,-1]\n",
    "\n",
    "#selection = 'gender'\n",
    "#thres = 34\n",
    "\n",
    "if selection == 'gender':\n",
    "    \n",
    "    input_y = inputs[inputs['male']==1]\n",
    "    real_y = real.loc[inputs['male']==1 , ]\n",
    "\n",
    "    input_x = inputs[inputs['female']==1]\n",
    "    real_x = real.loc[inputs['female']==1, ]\n",
    "\n",
    "    x_prob = 'Female predicted promotion rate'\n",
    "    y_prob = 'Male predicted promotion rate'\n",
    "\n",
    "elif selection == 'age':\n",
    "\n",
    "    input_y = inputs[inputs['age']<thres]\n",
    "    real_y = real.loc[inputs['age']<thres , ]\n",
    "\n",
    "    input_x = inputs[inputs['age']>=thres]\n",
    "    real_x = real.loc[inputs['age']>=thres, ]\n",
    "\n",
    "    x_prob = 'Old predicted promotion rate'\n",
    "    y_prob = 'Young predicted promotion rate'\n",
    "\n",
    "\n",
    "elif selection == 'mixed':\n",
    "    \n",
    "    input_y = inputs[inputs['male']==1]\n",
    "    real_y = real.loc[inputs['male']==1 , ]\n",
    "\n",
    "    input_x = inputs[inputs['age']>=thres]\n",
    "    real_x = real.loc[inputs['age']>=thres, ]\n",
    "\n",
    "    x_prob = 'Old predicted promotion rate'\n",
    "    y_prob = 'Male predicted promotion rate'\n",
    "\n",
    "elif selection == 'mixed2':\n",
    "\n",
    "    input_y = inputs[inputs['male']==1]\n",
    "    real_y = real.loc[inputs['male']==1 , ]\n",
    "\n",
    "    input_x = inputs[inputs['female']==1]\n",
    "    real_x = real.loc[inputs['female']==1, ]\n",
    "    \n",
    "    input_yo = inputs[inputs['age']<thres]\n",
    "    real_yo = real.loc[inputs['age']<thres , ]\n",
    "\n",
    "    input_ol = inputs[inputs['age']>=thres]\n",
    "    real_ol = real.loc[inputs['age']>=thres, ]    \n",
    "\n",
    "    x_prob = 'Female predicted promotion rate / \\nMale predicted promotion rate'\n",
    "    y_prob = 'Young predicted promotion rate / \\nOld predicted promotion rate'\n",
    "\n",
    "\n",
    "\n",
    "\n",
    "\n",
    "#input normalization\n",
    "scaler = MinMaxScaler()\n",
    "for df in [inputs, input_x, input_y]:\n",
    "    df = scaler.fit_transform(df)\n",
    "\n",
    "\n",
    "#make archive\n",
    "from ribs.archives import GridArchive\n",
    "archive = GridArchive(bins, #bins\n",
    "                      dim, #bounds = \n",
    "                      )\n",
    "\n",
    "#make gaussian emmitter\n",
    "from ribs.emitters import GaussianEmitter#, OptimizingEmitter, ImprovementEmitter, RandomDirectionEmitter, IsoLineEmitter\n",
    "#z_size = (100)\n",
    "#z_flat_size = 100 \n",
    "\n",
    "if EXP_NAME == 'test':\n",
    "    emitters = [\n",
    "        GaussianEmitter(\n",
    "            archive = archive,\n",
    "            # Start with a random set of weights.\n",
    "            x0 = np.random.normal(scale=1, size=(56*a)+((a+1)*b)+((b+1)*1)),\n",
    "            sigma0 = 0.1,\n",
    "            # elitist=True,\n",
    "            #bounds=[(0, 1)] * flat_img_size,\n",
    "            batch_size=16,\n",
    "        )\n",
    "    ]\n",
    "\n",
    "        \n",
    "    \n",
    "#optimizer\n",
    "from ribs.optimizers import Optimizer\n",
    "opt = Optimizer(archive, emitters)\n",
    "\n",
    "#fitness function for the CMA-ME (i = image)\n",
    "\n",
    "#get percentage match for clique\n",
    "def Fitness(weights, cases, cases_x, cases_y, cases_yo, cases_ol, output):\n",
    "    def forward(cases, weights):\n",
    "        prediction = np.array(cases)\n",
    "        prediction = np.concatenate((np.ones((prediction.shape[0], 1)), prediction), axis=1)\n",
    "        prediction = np.dot(prediction, np.reshape(weights[0 : 56*a], (prediction.shape[1],-1)))\n",
    "        prediction = np.maximum(0.01*prediction, prediction) #leaky relu\n",
    "        prediction = np.concatenate((np.ones((prediction.shape[0], 1)), prediction), axis=1)\n",
    "        prediction = np.dot(prediction, np.reshape(weights[56*a : 56*a+(a+1)*b], (prediction.shape[1],-1)))\n",
    "        prediction = np.maximum(0.01*prediction, prediction) #leaky relu\n",
    "        prediction = np.concatenate((np.ones((prediction.shape[0], 1)), prediction), axis=1)\n",
    "        prediction = np.dot(prediction, np.reshape(weights[56*a+(a+1)*b : 56*a+(a+1)*b+(b+1)*1], (prediction.shape[1],-1)))\n",
    "        prediction = (1. / (1. + np.exp(-prediction))) #sigmoid function\n",
    "        prediction = np.where(prediction > 0.5, 1, 0) #0.5 is the threshold \n",
    "        return prediction\n",
    "\n",
    "    def accuracy(weights, cases, output):\n",
    "        accuracy = (forward(cases, weights) == np.array(output).reshape(-1,1)).sum() / len(np.array(output))\n",
    "        return accuracy\n",
    "\n",
    "    def proportion(weights, cases_x, cases_y):\n",
    "        probx = forward(cases_x,weights).mean()\n",
    "        proby = forward(cases_y,weights).mean()\n",
    "        return probx, proby\n",
    "\n",
    "    def proportion2(weights, cases_x, cases_y, cases_yo, cases_ol):\n",
    "        probx = forward(cases_x,weights).mean() / (forward(cases_y,weights).mean() + np.finfo(float).eps)\n",
    "        #print (probx)\n",
    "        proby = forward(cases_ol,weights).mean() / (forward(cases_yo,weights).mean() + np.finfo(float).eps)\n",
    "        #print (proby)\n",
    "        return probx, proby\n",
    "    \n",
    "    if map == 'prob':\n",
    "        return accuracy(weights, cases, output), (proportion(weights, cases_x, cases_y))\n",
    "    elif map == 'prob2':\n",
    "        return accuracy(weights, cases, output), (proportion2(weights, cases_x, cases_y, cases_ol, cases_yo))\n",
    "    \n",
    "\n",
    "# global static inputs \n",
    "CASES = inputs\n",
    "CASES_X = input_x\n",
    "CASES_Y = input_y\n",
    "CASES_OL = input_ol\n",
    "CASES_YO = input_yo\n",
    "REAL = real\n",
    "\n",
    "#returns fitness sets for a batch\n",
    "def batchFitness(zs):\n",
    "    fs = []\n",
    "    cs = []\n",
    "    for z in zs:\n",
    "        #print(z.shape)\n",
    "        #p = forward(cases, sols)\n",
    "        f,c = Fitness(z, CASES, CASES_X, CASES_Y, CASES_YO, CASES_OL, REAL)\n",
    "        #print(f)\n",
    "        #print(c)\n",
    "        fs.append(f)\n",
    "        cs.append(c)\n",
    "    return np.array(fs), np.array(cs)\n",
    "\n",
    "\n",
    "\n"
   ]
  },
  {
   "attachments": {},
   "cell_type": "markdown",
   "metadata": {},
   "source": [
    "solutions = []  \n",
    "solutions.append(str(len(archive.as_pandas()['index_0'].values)))  \n",
    "if len(solutions)>20:  \n",
    "    if solutions[-1] == solutions[-20]:  \n",
    "        print('stagnant')  \n",
    "        break  \n",
    "    "
   ]
  },
  {
   "cell_type": "code",
   "execution_count": 46,
   "metadata": {
    "colab": {
     "base_uri": "https://localhost:8080/",
     "height": 240
    },
    "executionInfo": {
     "elapsed": 80218,
     "status": "error",
     "timestamp": 1678472559458,
     "user": {
      "displayName": "Catalina Maria Jaramillo",
      "userId": "07805015735325415584"
     },
     "user_tz": 300
    },
    "id": "2kqRGtoytjYy",
    "outputId": "97d81732-f5f9-48e0-d412-90ef4de710f1"
   },
   "outputs": [
    {
     "name": "stdout",
     "output_type": "stream",
     "text": [
      "Iteration 1000 complete after 2.767967216173808 m\n",
      "689\n"
     ]
    },
    {
     "ename": "KeyboardInterrupt",
     "evalue": "",
     "output_type": "error",
     "traceback": [
      "\u001b[0;31m---------------------------------------------------------------------------\u001b[0m",
      "\u001b[0;31mKeyboardInterrupt\u001b[0m                         Traceback (most recent call last)",
      "Cell \u001b[0;32mIn[46], line 23\u001b[0m\n\u001b[1;32m     21\u001b[0m \u001b[38;5;66;03m# Reshape and normalize the image and pass it through the network.\u001b[39;00m\n\u001b[1;32m     22\u001b[0m zs \u001b[38;5;241m=\u001b[39m sols\n\u001b[0;32m---> 23\u001b[0m objs, bcs \u001b[38;5;241m=\u001b[39m \u001b[43mbatchFitness\u001b[49m\u001b[43m(\u001b[49m\u001b[43mzs\u001b[49m\u001b[43m)\u001b[49m\n\u001b[1;32m     24\u001b[0m \u001b[38;5;66;03m#print(bcs)\u001b[39;00m\n\u001b[1;32m     25\u001b[0m \u001b[38;5;66;03m#print(f\"objs: {objs} | bcs: {bcs}\")\u001b[39;00m\n\u001b[1;32m     27\u001b[0m opt\u001b[38;5;241m.\u001b[39mtell(objs, bcs)\n",
      "Cell \u001b[0;32mIn[45], line 171\u001b[0m, in \u001b[0;36mbatchFitness\u001b[0;34m(zs)\u001b[0m\n\u001b[1;32m    167\u001b[0m cs \u001b[38;5;241m=\u001b[39m []\n\u001b[1;32m    168\u001b[0m \u001b[38;5;28;01mfor\u001b[39;00m z \u001b[38;5;129;01min\u001b[39;00m zs:\n\u001b[1;32m    169\u001b[0m     \u001b[38;5;66;03m#print(z.shape)\u001b[39;00m\n\u001b[1;32m    170\u001b[0m     \u001b[38;5;66;03m#p = forward(cases, sols)\u001b[39;00m\n\u001b[0;32m--> 171\u001b[0m     f,c \u001b[38;5;241m=\u001b[39m \u001b[43mFitness\u001b[49m\u001b[43m(\u001b[49m\u001b[43mz\u001b[49m\u001b[43m,\u001b[49m\u001b[43m \u001b[49m\u001b[43mCASES\u001b[49m\u001b[43m,\u001b[49m\u001b[43m \u001b[49m\u001b[43mCASES_X\u001b[49m\u001b[43m,\u001b[49m\u001b[43m \u001b[49m\u001b[43mCASES_Y\u001b[49m\u001b[43m,\u001b[49m\u001b[43m \u001b[49m\u001b[43mCASES_YO\u001b[49m\u001b[43m,\u001b[49m\u001b[43m \u001b[49m\u001b[43mCASES_OL\u001b[49m\u001b[43m,\u001b[49m\u001b[43m \u001b[49m\u001b[43mREAL\u001b[49m\u001b[43m)\u001b[49m\n\u001b[1;32m    172\u001b[0m     \u001b[38;5;66;03m#print(f)\u001b[39;00m\n\u001b[1;32m    173\u001b[0m     \u001b[38;5;66;03m#print(c)\u001b[39;00m\n\u001b[1;32m    174\u001b[0m     fs\u001b[38;5;241m.\u001b[39mappend(f)\n",
      "Cell \u001b[0;32mIn[45], line 153\u001b[0m, in \u001b[0;36mFitness\u001b[0;34m(weights, cases, cases_x, cases_y, cases_yo, cases_ol, output)\u001b[0m\n\u001b[1;32m    151\u001b[0m     \u001b[38;5;28;01mreturn\u001b[39;00m accuracy(weights, cases, output), (proportion(weights, cases_x, cases_y))\n\u001b[1;32m    152\u001b[0m \u001b[38;5;28;01melif\u001b[39;00m \u001b[38;5;28mmap\u001b[39m \u001b[38;5;241m==\u001b[39m \u001b[38;5;124m'\u001b[39m\u001b[38;5;124mprob2\u001b[39m\u001b[38;5;124m'\u001b[39m:\n\u001b[0;32m--> 153\u001b[0m     \u001b[38;5;28;01mreturn\u001b[39;00m accuracy(weights, cases, output), (\u001b[43mproportion2\u001b[49m\u001b[43m(\u001b[49m\u001b[43mweights\u001b[49m\u001b[43m,\u001b[49m\u001b[43m \u001b[49m\u001b[43mcases_x\u001b[49m\u001b[43m,\u001b[49m\u001b[43m \u001b[49m\u001b[43mcases_y\u001b[49m\u001b[43m,\u001b[49m\u001b[43m \u001b[49m\u001b[43mcases_ol\u001b[49m\u001b[43m,\u001b[49m\u001b[43m \u001b[49m\u001b[43mcases_yo\u001b[49m\u001b[43m)\u001b[49m)\n",
      "Cell \u001b[0;32mIn[45], line 146\u001b[0m, in \u001b[0;36mFitness.<locals>.proportion2\u001b[0;34m(weights, cases_x, cases_y, cases_yo, cases_ol)\u001b[0m\n\u001b[1;32m    144\u001b[0m probx \u001b[38;5;241m=\u001b[39m forward(cases_x,weights)\u001b[38;5;241m.\u001b[39mmean() \u001b[38;5;241m/\u001b[39m (forward(cases_y,weights)\u001b[38;5;241m.\u001b[39mmean() \u001b[38;5;241m+\u001b[39m np\u001b[38;5;241m.\u001b[39mfinfo(\u001b[38;5;28mfloat\u001b[39m)\u001b[38;5;241m.\u001b[39meps)\n\u001b[1;32m    145\u001b[0m \u001b[38;5;66;03m#print (probx)\u001b[39;00m\n\u001b[0;32m--> 146\u001b[0m proby \u001b[38;5;241m=\u001b[39m \u001b[43mforward\u001b[49m\u001b[43m(\u001b[49m\u001b[43mcases_ol\u001b[49m\u001b[43m,\u001b[49m\u001b[43mweights\u001b[49m\u001b[43m)\u001b[49m\u001b[38;5;241m.\u001b[39mmean() \u001b[38;5;241m/\u001b[39m (forward(cases_yo,weights)\u001b[38;5;241m.\u001b[39mmean() \u001b[38;5;241m+\u001b[39m np\u001b[38;5;241m.\u001b[39mfinfo(\u001b[38;5;28mfloat\u001b[39m)\u001b[38;5;241m.\u001b[39meps)\n\u001b[1;32m    147\u001b[0m \u001b[38;5;66;03m#print (proby)\u001b[39;00m\n\u001b[1;32m    148\u001b[0m \u001b[38;5;28;01mreturn\u001b[39;00m probx, proby\n",
      "Cell \u001b[0;32mIn[45], line 125\u001b[0m, in \u001b[0;36mFitness.<locals>.forward\u001b[0;34m(cases, weights)\u001b[0m\n\u001b[1;32m    123\u001b[0m prediction \u001b[38;5;241m=\u001b[39m np\u001b[38;5;241m.\u001b[39mdot(prediction, np\u001b[38;5;241m.\u001b[39mreshape(weights[\u001b[38;5;241m0\u001b[39m : \u001b[38;5;241m56\u001b[39m\u001b[38;5;241m*\u001b[39ma], (prediction\u001b[38;5;241m.\u001b[39mshape[\u001b[38;5;241m1\u001b[39m],\u001b[38;5;241m-\u001b[39m\u001b[38;5;241m1\u001b[39m)))\n\u001b[1;32m    124\u001b[0m prediction \u001b[38;5;241m=\u001b[39m np\u001b[38;5;241m.\u001b[39mmaximum(\u001b[38;5;241m0.01\u001b[39m\u001b[38;5;241m*\u001b[39mprediction, prediction) \u001b[38;5;66;03m#leaky relu\u001b[39;00m\n\u001b[0;32m--> 125\u001b[0m prediction \u001b[38;5;241m=\u001b[39m np\u001b[38;5;241m.\u001b[39mconcatenate((\u001b[43mnp\u001b[49m\u001b[38;5;241;43m.\u001b[39;49m\u001b[43mones\u001b[49m\u001b[43m(\u001b[49m\u001b[43m(\u001b[49m\u001b[43mprediction\u001b[49m\u001b[38;5;241;43m.\u001b[39;49m\u001b[43mshape\u001b[49m\u001b[43m[\u001b[49m\u001b[38;5;241;43m0\u001b[39;49m\u001b[43m]\u001b[49m\u001b[43m,\u001b[49m\u001b[43m \u001b[49m\u001b[38;5;241;43m1\u001b[39;49m\u001b[43m)\u001b[49m\u001b[43m)\u001b[49m, prediction), axis\u001b[38;5;241m=\u001b[39m\u001b[38;5;241m1\u001b[39m)\n\u001b[1;32m    126\u001b[0m prediction \u001b[38;5;241m=\u001b[39m np\u001b[38;5;241m.\u001b[39mdot(prediction, np\u001b[38;5;241m.\u001b[39mreshape(weights[\u001b[38;5;241m56\u001b[39m\u001b[38;5;241m*\u001b[39ma : \u001b[38;5;241m56\u001b[39m\u001b[38;5;241m*\u001b[39ma\u001b[38;5;241m+\u001b[39m(a\u001b[38;5;241m+\u001b[39m\u001b[38;5;241m1\u001b[39m)\u001b[38;5;241m*\u001b[39mb], (prediction\u001b[38;5;241m.\u001b[39mshape[\u001b[38;5;241m1\u001b[39m],\u001b[38;5;241m-\u001b[39m\u001b[38;5;241m1\u001b[39m)))\n\u001b[1;32m    127\u001b[0m prediction \u001b[38;5;241m=\u001b[39m np\u001b[38;5;241m.\u001b[39mmaximum(\u001b[38;5;241m0.01\u001b[39m\u001b[38;5;241m*\u001b[39mprediction, prediction) \u001b[38;5;66;03m#leaky relu\u001b[39;00m\n",
      "File \u001b[0;32m~/opt/anaconda3/envs/pyribs/lib/python3.10/site-packages/numpy/core/numeric.py:149\u001b[0m, in \u001b[0;36mones\u001b[0;34m(shape, dtype, order, like)\u001b[0m\n\u001b[1;32m    145\u001b[0m \u001b[38;5;28;01mdef\u001b[39;00m \u001b[38;5;21m_ones_dispatcher\u001b[39m(shape, dtype\u001b[38;5;241m=\u001b[39m\u001b[38;5;28;01mNone\u001b[39;00m, order\u001b[38;5;241m=\u001b[39m\u001b[38;5;28;01mNone\u001b[39;00m, \u001b[38;5;241m*\u001b[39m, like\u001b[38;5;241m=\u001b[39m\u001b[38;5;28;01mNone\u001b[39;00m):\n\u001b[1;32m    146\u001b[0m     \u001b[38;5;28;01mreturn\u001b[39;00m(like,)\n\u001b[0;32m--> 149\u001b[0m \u001b[38;5;129m@set_array_function_like_doc\u001b[39m\n\u001b[1;32m    150\u001b[0m \u001b[38;5;129m@set_module\u001b[39m(\u001b[38;5;124m'\u001b[39m\u001b[38;5;124mnumpy\u001b[39m\u001b[38;5;124m'\u001b[39m)\n\u001b[1;32m    151\u001b[0m \u001b[38;5;28;01mdef\u001b[39;00m \u001b[38;5;21mones\u001b[39m(shape, dtype\u001b[38;5;241m=\u001b[39m\u001b[38;5;28;01mNone\u001b[39;00m, order\u001b[38;5;241m=\u001b[39m\u001b[38;5;124m'\u001b[39m\u001b[38;5;124mC\u001b[39m\u001b[38;5;124m'\u001b[39m, \u001b[38;5;241m*\u001b[39m, like\u001b[38;5;241m=\u001b[39m\u001b[38;5;28;01mNone\u001b[39;00m):\n\u001b[1;32m    152\u001b[0m     \u001b[38;5;124;03m\"\"\"\u001b[39;00m\n\u001b[1;32m    153\u001b[0m \u001b[38;5;124;03m    Return a new array of given shape and type, filled with ones.\u001b[39;00m\n\u001b[1;32m    154\u001b[0m \n\u001b[0;32m   (...)\u001b[0m\n\u001b[1;32m    199\u001b[0m \n\u001b[1;32m    200\u001b[0m \u001b[38;5;124;03m    \"\"\"\u001b[39;00m\n\u001b[1;32m    201\u001b[0m     \u001b[38;5;28;01mif\u001b[39;00m like \u001b[38;5;129;01mis\u001b[39;00m \u001b[38;5;129;01mnot\u001b[39;00m \u001b[38;5;28;01mNone\u001b[39;00m:\n",
      "\u001b[0;31mKeyboardInterrupt\u001b[0m: "
     ]
    }
   ],
   "source": [
    "import time\n",
    "\n",
    "# LONGER ITERATIONS\n",
    "\n",
    "\n",
    "start_time = time.time()\n",
    "\n",
    "#MEAN_TRANSFORM = 0.1307\n",
    "#STD_DEV_TRANSFORM = 0.3081\n",
    "\n",
    "#keeps having OOM error so fuck it\n",
    "# CUDA_VISIBLE_DEVICES=1\n",
    "# use_cuda = torch.cuda.is_available()\n",
    "# device = torch.device(\"cuda\")\n",
    "#device = torch.device(\"cpu\")\n",
    "\n",
    "solutions = []\n",
    "for itr in range(1, total_itrs + 1):\n",
    "    sols = opt.ask()\n",
    "\n",
    "    # Reshape and normalize the image and pass it through the network.\n",
    "    zs = sols\n",
    "    objs, bcs = batchFitness(zs)\n",
    "    #print(bcs)\n",
    "    #print(f\"objs: {objs} | bcs: {bcs}\")\n",
    "        \n",
    "    opt.tell(objs, bcs)\n",
    "    #print(str(len(archive.as_pandas()['index_0'].values)))\n",
    "\n",
    "    if itr % 1000 == 0:\n",
    "        print(f\"Iteration {itr} complete after {(time.time() - start_time)/60} m\")\n",
    "        print(str(len(archive.as_pandas()['index_0'].values)))\n",
    "        solutions.append(str(len(archive.as_pandas()['index_0'].values)))\n",
    "        if len(solutions)>100 and solutions[-1] == solutions[-50]:\n",
    "            print('stagnant')\n",
    "            break\n",
    "\n",
    "    if itr % 10000 == 0:\n",
    "        dibujo(4,3)\n",
    "        \n",
    "    #if str(len(archive.as_pandas()['index_0'].values)) >= bin[0]*bin[1]:\n",
    "    #    break\n"
   ]
  },
  {
   "cell_type": "code",
   "execution_count": 47,
   "metadata": {
    "executionInfo": {
     "elapsed": 7,
     "status": "aborted",
     "timestamp": 1678472559459,
     "user": {
      "displayName": "Catalina Maria Jaramillo",
      "userId": "07805015735325415584"
     },
     "user_tz": 300
    },
    "id": "mZMcIZfrXA4t"
   },
   "outputs": [
    {
     "data": {
      "image/png": "[encoded data removed]",
      "text/plain": [
       "<Figure size 800x600 with 2 Axes>"
      ]
     },
     "metadata": {},
     "output_type": "display_data"
    }
   ],
   "source": [
    "# Populate the archive with the negative sphere function.\n",
    "# Plot a heatmap of the archive.fitnes\n",
    "\n",
    "def dibujo():\n",
    "    plt.figure(figsize=(8, 6))\n",
    "    grid_archive_heatmap(archive)\n",
    "    plt.title(\"Accuracy\")\n",
    "    plt.xlabel(x_prob)\n",
    "    plt.ylabel(y_prob)\n",
    "    plt.show()\n",
    "dibujo()"
   ]
  },
  {
   "cell_type": "code",
   "execution_count": 48,
   "metadata": {
    "executionInfo": {
     "elapsed": 8,
     "status": "aborted",
     "timestamp": 1678472559460,
     "user": {
      "displayName": "Catalina Maria Jaramillo",
      "userId": "07805015735325415584"
     },
     "user_tz": 300
    },
    "id": "Kge_nloxubpu"
   },
   "outputs": [
    {
     "name": "stdout",
     "output_type": "stream",
     "text": [
      "output106 \n",
      "dataset = data1 \n",
      "selection = mixed2 \n",
      "thres =  34 \n",
      "experiment = test \n",
      "map =  prob2 \n",
      "dim = [[0, 2], [0, 2]] \n",
      "iter_scheduled =  100000 \n",
      "iter_real = 1992 \n",
      "network =  35 15 1 \n",
      "number of solutions =  870 \n",
      "\n",
      "best accuracy =  0.6206 \n",
      "\t Female predicted promotion rate / \n",
      "Male predicted promotion rate  =  1.0651 \n",
      "\t Young predicted promotion rate / \n",
      "Old predicted promotion rate  =  1.9314 \n",
      "best accuracy unbiased =  0.6047 \n",
      "\t Female predicted promotion rate / \n",
      "Male predicted promotion rate  =  1.004 \n",
      "\t Young predicted promotion rate / \n",
      "Old predicted promotion rate  =  1.1528 \n",
      "\n"
     ]
    }
   ],
   "source": [
    "#models in the fair zone square\n",
    "t = archive.as_pandas()[(archive.as_pandas().index_0>=12) & (archive.as_pandas().index_1>=12) & (archive.as_pandas().index_0<=17) & (archive.as_pandas().index_1<=17)]\n",
    "\n",
    "#models in the fair zone square if we use map between 0.5 and 2\n",
    "# t = archive.as_pandas()[(archive.as_pandas().index_0>=6) & (archive.as_pandas().index_1>=6) & (archive.as_pandas().index_0<=14) & (archive.as_pandas().index_1<=14)]\n",
    "\n",
    "\n",
    "print( nombre, '\\n'\n",
    "      'dataset =', datatouse, '\\n'\n",
    "      'selection =', selection, '\\n'\n",
    "      'thres = ', thres, '\\n'\n",
    "      'experiment =', EXP_NAME, '\\n'\n",
    "      'map = ', map, '\\n'\n",
    "      'dim =', dim, '\\n'\n",
    "      'iter_scheduled = ', total_itrs, '\\n'\n",
    "      'iter_real =', itr, '\\n'\n",
    "      'network = ', a, b, c, '\\n'\n",
    "      'number of solutions = ', str(len(archive.as_pandas()['index_0'].values)), '\\n\\n'\n",
    "      'best accuracy = ', round(archive.as_pandas()['objective'].max(),4), '\\n'\n",
    "      '\\t', x_prob, ' = ', round(archive.as_pandas()[archive.as_pandas()['objective']==archive.as_pandas()['objective'].max()]['behavior_0'] ,4).values[0], '\\n'\n",
    "      '\\t', y_prob, ' = ', round(archive.as_pandas()[archive.as_pandas()['objective']==archive.as_pandas()['objective'].max()]['behavior_1'] ,4).values[0], '\\n'\n",
    "      'best accuracy unbiased = ', round(t['objective'].max(), 4), '\\n'\n",
    "      '\\t', x_prob, ' = ', round(t[t['objective']==t['objective'].max()]['behavior_0'] ,4).values[0], '\\n'\n",
    "      '\\t', y_prob, ' = ', round(t[t['objective']==t['objective'].max()]['behavior_1'] ,4).values[0], '\\n')\n",
    "\n",
    "\n"
   ]
  },
  {
   "cell_type": "code",
   "execution_count": null,
   "metadata": {},
   "outputs": [],
   "source": []
  },
  {
   "cell_type": "code",
   "execution_count": 52,
   "metadata": {},
   "outputs": [
    {
     "name": "stdout",
     "output_type": "stream",
     "text": [
      "0.9336723033270292\n",
      "0.1528523470542733\n"
     ]
    }
   ],
   "source": [
    "#distance\n",
    "\n",
    "#best\n",
    "print(math.dist([1,1],[round(archive.as_pandas()[archive.as_pandas()['objective']==archive.as_pandas()['objective'].max()]['behavior_0'] ,4).values[0],\n",
    "round(archive.as_pandas()[archive.as_pandas()['objective']==archive.as_pandas()['objective'].max()]['behavior_1'] ,4).values[0]]))\n",
    "\n",
    "#best fair\n",
    "print(math.dist([1,1],[round(t[t['objective']==t['objective'].max()]['behavior_0'] ,4).values[0],\n",
    "round(t[t['objective']==t['objective'].max()]['behavior_1'] ,4).values[0]]))\n"
   ]
  },
  {
   "cell_type": "code",
   "execution_count": null,
   "metadata": {
    "executionInfo": {
     "elapsed": 2,
     "status": "ok",
     "timestamp": 1678472367355,
     "user": {
      "displayName": "Catalina Maria Jaramillo",
      "userId": "07805015735325415584"
     },
     "user_tz": 300
    },
    "id": "c1SuVdlD8ou6"
   },
   "outputs": [
    {
     "data": {
      "text/plain": [
       "0"
      ]
     },
     "execution_count": 56,
     "metadata": {},
     "output_type": "execute_result"
    }
   ],
   "source": [
    "import os\n",
    "os.system(\"say -v Paulina 'ya esta listo'\")\n",
    "\n"
   ]
  },
  {
   "cell_type": "code",
   "execution_count": null,
   "metadata": {},
   "outputs": [],
   "source": [
    "#save the results for this run\n",
    "archive.as_pandas().to_pickle('./'+nombre+'.pkl')\n"
   ]
  },
  {
   "cell_type": "code",
   "execution_count": null,
   "metadata": {},
   "outputs": [],
   "source": []
  },
  {
   "cell_type": "code",
   "execution_count": 57,
   "metadata": {},
   "outputs": [],
   "source": [
    "archive=pd.read_pickle('./output105.pkl')"
   ]
  },
  {
   "cell_type": "code",
   "execution_count": 58,
   "metadata": {},
   "outputs": [
    {
     "name": "stdout",
     "output_type": "stream",
     "text": [
      "number of solutions =  900 \n",
      "\n",
      "best accuracy =  0.6428 \n",
      "\t fem/mal =  1.4082 \n",
      "\t y/old =  0.7489 \n",
      "best accuracy unbiased =  0.641 \n",
      "\t fem/mal =  0.8505 \n",
      "\t y/old =  0.9179 \n",
      "\n"
     ]
    }
   ],
   "source": [
    "t = archive[(archive.index_0>=12) & (archive.index_1>=12) & (archive.index_0<=17) & (archive.index_1<=17)]\n",
    "\n",
    "print( \n",
    "      'number of solutions = ', str(len(archive['index_0'].values)), '\\n\\n'\n",
    "      'best accuracy = ', round(archive['objective'].max(),4), '\\n'\n",
    "      '\\t fem/mal = ', round(archive[archive['objective']==archive['objective'].max()]['behavior_0'] ,4).values[0], '\\n'\n",
    "      '\\t y/old = ', round(archive[archive['objective']==archive['objective'].max()]['behavior_1'] ,4).values[0], '\\n'\n",
    "      'best accuracy unbiased = ', round(t['objective'].max(), 4), '\\n'\n",
    "      '\\t fem/mal = ', round(t[t['objective']==t['objective'].max()]['behavior_0'] ,4).values[0], '\\n'\n",
    "      '\\t y/old = ', round(t[t['objective']==t['objective'].max()]['behavior_1'] ,4).values[0], '\\n')\n"
   ]
  },
  {
   "cell_type": "code",
   "execution_count": 59,
   "metadata": {},
   "outputs": [
    {
     "name": "stdout",
     "output_type": "stream",
     "text": [
      "0.4792477960304042\n",
      "0.17055984287047166\n"
     ]
    }
   ],
   "source": [
    "print(math.dist([1,1],[round(archive[archive['objective']==archive['objective'].max()]['behavior_0'] ,4).values[0],\n",
    " round(archive[archive['objective']==archive['objective'].max()]['behavior_1'] ,4).values[0]]))\n",
    "\n",
    "#best fair\n",
    "print(math.dist([1,1],[round(t[t['objective']==t['objective'].max()]['behavior_0'] ,4).values[0],\n",
    "round(t[t['objective']==t['objective'].max()]['behavior_1'] ,4).values[0]]))\n"
   ]
  },
  {
   "cell_type": "code",
   "execution_count": null,
   "metadata": {},
   "outputs": [],
   "source": []
  }
 ],
 "metadata": {
  "colab": {
   "provenance": [
    {
     "file_id": "1eYnSP6iV_JTXPasJu9_hcUNPSa6fsBs0",
     "timestamp": 1677372361007
    }
   ]
  },
  "kernelspec": {
   "display_name": "pyribs",
   "language": "python",
   "name": "python3"
  },
  "language_info": {
   "codemirror_mode": {
    "name": "ipython",
    "version": 3
   },
   "file_extension": ".py",
   "mimetype": "text/x-python",
   "name": "python",
   "nbconvert_exporter": "python",
   "pygments_lexer": "ipython3",
   "version": "3.10.9"
  },
  "vscode": {
   "interpreter": {
    "hash": "6c0ba6bca86e1b6ab5a37f69014f6a72b2b7630522d1ac2141f4873bd58d1c79"
   }
  }
 },
 "nbformat": 4,
 "nbformat_minor": 0
}
